{
 "cells": [
  {
   "cell_type": "markdown",
   "metadata": {},
   "source": [
    "# Load packages"
   ]
  },
  {
   "cell_type": "code",
   "execution_count": 3,
   "metadata": {
    "collapsed": true
   },
   "outputs": [],
   "source": [
    "import numpy as np\n",
    "import pandas as pd\n",
    "from sklearn.linear_model import LinearRegression\n",
    "from sklearn.cross_validation import train_test_split\n",
    "import math"
   ]
  },
  {
   "cell_type": "markdown",
   "metadata": {},
   "source": [
    "# Read data"
   ]
  },
  {
   "cell_type": "code",
   "execution_count": 4,
   "metadata": {
    "collapsed": false
   },
   "outputs": [],
   "source": [
    "dataset = pd.read_csv('/resources/data/samples/DataScienceProjekt17/train.csv')\n",
    "kaggle_test = pd.read_csv('/resources/data/samples/DataScienceProjekt17/test.csv')"
   ]
  },
  {
   "cell_type": "markdown",
   "metadata": {},
   "source": [
    "# Data cleaning and preprocess"
   ]
  },
  {
   "cell_type": "code",
   "execution_count": 5,
   "metadata": {
    "collapsed": false
   },
   "outputs": [],
   "source": [
    "# delete ID\n",
    "del dataset['Id']\n",
    "# convert to 'real' Nan\n",
    "dataset.fillna('NaN', inplace=True)"
   ]
  },
  {
   "cell_type": "markdown",
   "metadata": {},
   "source": [
    "# Linear Regression Model"
   ]
  },
  {
   "cell_type": "code",
   "execution_count": 17,
   "metadata": {
    "collapsed": false
   },
   "outputs": [],
   "source": [
    "x=np.log(dataset[['LotArea']].copy())\n",
    "x['Constant']=np.ones(len(x))\n",
    "x['LotSq']=np.log(dataset[['LotArea']]**2)\n",
    "tmp=dataset[['MSSubClass']]\n",
    "tmp=pd.Series(tmp, dtype=\"category\")\n",
    "x=pd.concat([x,pd.get_dummies(dataset['MSSubClass']),\n",
    "            pd.get_dummies(dataset['YrSold']),\n",
    "            pd.get_dummies(dataset['OverallQual']),\n",
    "   #        pd.get_dummies(dataset['OverallCond']),\n",
    "            pd.get_dummies(dataset['SaleType']),\n",
    "            pd.get_dummies(dataset['MSZoning'])], axis=1)\n",
    "x=x.values\n",
    "y=dataset['SalePrice'].values"
   ]
  },
  {
   "cell_type": "code",
   "execution_count": 18,
   "metadata": {
    "collapsed": false,
    "scrolled": false
   },
   "outputs": [
    {
     "name": "stdout",
     "output_type": "stream",
     "text": [
      "0.1836097740155874\n"
     ]
    }
   ],
   "source": [
    "cv_rmsel=0\n",
    "reg=LinearRegression()\n",
    "for i in range(10):\n",
    "    rmsel=0\n",
    "    x_train,x_test,y_train,y_test=train_test_split(x,y,test_size=0.3)\n",
    "    reg.fit(x_train,y_train)\n",
    "    prediction=(reg.predict(x_test))\n",
    "    for i in range(len(y_test)):\n",
    "        rmsel += (math.log(y_test[i]+1) - math.log(prediction[i]+1))**2\n",
    "    rmsel=(rmsel/len(x_test))**0.5\n",
    "    cv_rmsel += cv_rmsel\n",
    "cv_rmsel=cv_rmsel/10\n",
    "print(rmsel)"
   ]
  },
  {
   "cell_type": "markdown",
   "metadata": {
    "collapsed": true
   },
   "source": [
    "# Final kaggle prediction and submission"
   ]
  },
  {
   "cell_type": "code",
   "execution_count": 8,
   "metadata": {
    "collapsed": false
   },
   "outputs": [
    {
     "data": {
      "text/plain": [
       "LinearRegression(copy_X=True, fit_intercept=True, n_jobs=1, normalize=False)"
      ]
     },
     "execution_count": 8,
     "metadata": {},
     "output_type": "execute_result"
    }
   ],
   "source": [
    "reg=LinearRegression()\n",
    "reg.fit(x,y)"
   ]
  },
  {
   "cell_type": "markdown",
   "metadata": {},
   "source": [
    "Unknown data filter..."
   ]
  },
  {
   "cell_type": "code",
   "execution_count": 10,
   "metadata": {
    "collapsed": false
   },
   "outputs": [],
   "source": [
    "kaggle_test['SaleType']=kaggle_test['SaleType'].replace('NaN','Oth')      # for now, assign NaN to Oth\n",
    "kaggle_test['MSZoning']=kaggle_test['MSZoning'].replace('NaN','FV')       # for now, assign NaN to something\n",
    "kaggle_test['MSSubClass']=kaggle_test['MSSubClass'].replace('150','180')  # for now, assign new train class to 180\n",
    "kaggle_test['MSSubClass']=pd.to_numeric(kaggle_test['MSSubClass'])        # for now, assign NaN to something"
   ]
  },
  {
   "cell_type": "markdown",
   "metadata": {},
   "source": [
    "Transform test dataset"
   ]
  },
  {
   "cell_type": "code",
   "execution_count": 11,
   "metadata": {
    "collapsed": false
   },
   "outputs": [],
   "source": [
    "kaggle_x=np.log(kaggle_test[['LotArea']].copy())\n",
    "kaggle_x['Constant']=np.ones(len(kaggle_x))\n",
    "kaggle_x['LotSq']=np.log(kaggle_test[['LotArea']]**2)\n",
    "kaggle_tmp=kaggle_test[['MSSubClass']]\n",
    "kaggle_tmp=pd.Series(tmp, dtype=\"category\")\n",
    "kaggle_x=pd.concat([kaggle_x,pd.get_dummies(kaggle_test['MSSubClass']),\n",
    "            pd.get_dummies(kaggle_test['YrSold']),\n",
    "            pd.get_dummies(kaggle_test['OverallQual']),\n",
    "   #        pd.get_dummies(kaggle_test['OverallCond']),\n",
    "            pd.get_dummies(kaggle_test['SaleType']),\n",
    "            pd.get_dummies(kaggle_test['MSZoning'])], axis=1)\n",
    "kaggle_x=kaggle_x.values"
   ]
  },
  {
   "cell_type": "markdown",
   "metadata": {},
   "source": [
    "Make prediction and convert to csv"
   ]
  },
  {
   "cell_type": "code",
   "execution_count": 12,
   "metadata": {
    "collapsed": false
   },
   "outputs": [],
   "source": [
    "prediction=reg.predict(kaggle_x)\n",
    "prediction=pd.concat([kaggle_test['Id'],pd.DataFrame(prediction)],axis=1)\n",
    "prediction.columns=[\"Id\",\"SalePrice\"]\n",
    "prediction.to_csv('submission.csv',index=False)"
   ]
  },
  {
   "cell_type": "code",
   "execution_count": 13,
   "metadata": {
    "collapsed": false
   },
   "outputs": [
    {
     "data": {
      "text/html": [
       "<div>\n",
       "<table border=\"1\" class=\"dataframe\">\n",
       "  <thead>\n",
       "    <tr style=\"text-align: right;\">\n",
       "      <th></th>\n",
       "      <th>Id</th>\n",
       "      <th>SalePrice</th>\n",
       "    </tr>\n",
       "  </thead>\n",
       "  <tbody>\n",
       "    <tr>\n",
       "      <th>0</th>\n",
       "      <td>1461</td>\n",
       "      <td>151093.851774</td>\n",
       "    </tr>\n",
       "    <tr>\n",
       "      <th>1</th>\n",
       "      <td>1462</td>\n",
       "      <td>179780.052695</td>\n",
       "    </tr>\n",
       "    <tr>\n",
       "      <th>2</th>\n",
       "      <td>1463</td>\n",
       "      <td>175544.787705</td>\n",
       "    </tr>\n",
       "    <tr>\n",
       "      <th>3</th>\n",
       "      <td>1464</td>\n",
       "      <td>184574.533392</td>\n",
       "    </tr>\n",
       "    <tr>\n",
       "      <th>4</th>\n",
       "      <td>1465</td>\n",
       "      <td>247826.868594</td>\n",
       "    </tr>\n",
       "  </tbody>\n",
       "</table>\n",
       "</div>"
      ],
      "text/plain": [
       "     Id      SalePrice\n",
       "0  1461  151093.851774\n",
       "1  1462  179780.052695\n",
       "2  1463  175544.787705\n",
       "3  1464  184574.533392\n",
       "4  1465  247826.868594"
      ]
     },
     "execution_count": 13,
     "metadata": {},
     "output_type": "execute_result"
    }
   ],
   "source": [
    "prediction.head()"
   ]
  },
  {
   "cell_type": "code",
   "execution_count": null,
   "metadata": {
    "collapsed": true
   },
   "outputs": [],
   "source": []
  }
 ],
 "metadata": {
  "kernelspec": {
   "display_name": "Python 3",
   "language": "python",
   "name": "python3"
  },
  "language_info": {
   "codemirror_mode": {
    "name": "ipython",
    "version": 3
   },
   "file_extension": ".py",
   "mimetype": "text/x-python",
   "name": "python",
   "nbconvert_exporter": "python",
   "pygments_lexer": "ipython3",
   "version": "3.4.3"
  },
  "widgets": {
   "state": {},
   "version": "1.1.2"
  }
 },
 "nbformat": 4,
 "nbformat_minor": 0
}
