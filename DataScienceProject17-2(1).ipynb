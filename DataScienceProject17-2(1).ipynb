{
 "cells": [
  {
   "cell_type": "markdown",
   "metadata": {},
   "source": [
    "# DataScience Project ´17"
   ]
  },
  {
   "cell_type": "code",
   "execution_count": 23,
   "metadata": {
    "collapsed": false,
    "scrolled": true
   },
   "outputs": [],
   "source": [
    "import pandas as pd\n",
    "import numpy as np\n",
    "import matplotlib.pyplot as plt\n",
    "import seaborn as sns\n",
    "from sklearn.linear_model import LinearRegression\n",
    "from sklearn import linear_model\n",
    "from sklearn.svm import SVR\n",
    "from sklearn.cross_validation import train_test_split\n",
    "from sklearn.ensemble import GradientBoostingRegressor\n",
    "from sklearn.ensemble import RandomForestRegressor\n",
    "from sklearn.cross_decomposition import PLSRegression\n",
    "from sklearn.preprocessing import Imputer\n",
    "#from fancyimpute import BiScaler, KNN, NuclearNormMinimization, SoftImpute\n",
    "import math\n",
    "from sklearn.feature_selection import VarianceThreshold\n",
    "#import xgboost as xgb\n",
    "from sklearn import preprocessing\n",
    "from sklearn.feature_selection import SelectFromModel\n",
    "from scipy.stats import boxcox\n",
    "from sklearn.cross_decomposition import PLSRegression\n",
    "from sklearn.cluster import KMeans\n",
    "\n",
    "%matplotlib inline\n",
    "\n",
    "import numpy as np\n",
    "from sklearn.cluster import KMeans, AffinityPropagation\n",
    "from sklearn.linear_model import LinearRegression\n",
    "from scipy.spatial.distance import sqeuclidean\n",
    "from scipy.optimize import linprog\n",
    "#from cvxopt import matrix, solvers\n",
    "import warnings\n",
    "warnings.filterwarnings('ignore')"
   ]
  },
  {
   "cell_type": "markdown",
   "metadata": {},
   "source": [
    "# Preprocessing"
   ]
  },
  {
   "cell_type": "code",
   "execution_count": 24,
   "metadata": {
    "collapsed": false
   },
   "outputs": [],
   "source": [
    "# sns.barplot(train.SalePrice)\n",
    "#train.SalePrice.groupby(train.PoolArea).mean()\n",
    "#dataspace.columns(dtypes==type(object)])\n",
    "#dataspace=pd.concat([train, test], keys=['train', 'test'])\n",
    "#nonnumeric=dataspace.loc[:,dataspace.dtypes==type(object)]\n",
    "#missing_values = pd.concat([nonnumeric.isnull().sum()/len(train), test.isnull().sum()/len(test)], axis=1, keys=['Train', 'Test'])\n",
    "#missing_values[missing_values.sum(axis=1)>0.5]\n"
   ]
  },
  {
   "cell_type": "code",
   "execution_count": 25,
   "metadata": {
    "collapsed": false
   },
   "outputs": [],
   "source": [
    "train = pd.read_csv('train.csv')\n",
    "test = pd.read_csv('test.csv')\n",
    "y = train.pop('SalePrice')\n",
    "variables = pd.concat([train, test], keys=['train', 'test'])"
   ]
  },
  {
   "cell_type": "code",
   "execution_count": 26,
   "metadata": {
    "collapsed": false
   },
   "outputs": [
    {
     "name": "stdout",
     "output_type": "stream",
     "text": [
      "Neighborhood\n",
      "Blmngtn    194870\n",
      "Blueste    137500\n",
      "BrDale     104493\n",
      "BrkSide    124834\n",
      "ClearCr    212565\n",
      "CollgCr    197965\n",
      "Crawfor    210624\n",
      "Edwards    128219\n",
      "Gilbert    192854\n",
      "IDOTRR     100123\n",
      "MeadowV     98576\n",
      "Mitchel    156270\n",
      "NAmes      145847\n",
      "NPkVill    142694\n",
      "NWAmes     189050\n",
      "NoRidge    335295\n",
      "NridgHt    316270\n",
      "OldTown    128225\n",
      "SWISU      142591\n",
      "Sawyer     136793\n",
      "SawyerW    186555\n",
      "Somerst    225379\n",
      "StoneBr    310499\n",
      "Timber     242247\n",
      "Veenker    238772\n",
      "Name: SalePrice, dtype: int64\n",
      "Neighborhood\n",
      "Blmngtn     17\n",
      "Blueste      2\n",
      "BrDale      16\n",
      "BrkSide     58\n",
      "ClearCr     28\n",
      "CollgCr    150\n",
      "Crawfor     51\n",
      "Edwards    100\n",
      "Gilbert     79\n",
      "IDOTRR      37\n",
      "MeadowV     17\n",
      "Mitchel     49\n",
      "NAmes      225\n",
      "NPkVill      9\n",
      "NWAmes      73\n",
      "NoRidge     41\n",
      "NridgHt     77\n",
      "OldTown    113\n",
      "SWISU       25\n",
      "Sawyer      74\n",
      "SawyerW     59\n",
      "Somerst     86\n",
      "StoneBr     25\n",
      "Timber      38\n",
      "Veenker     11\n",
      "Name: SalePrice, dtype: int64\n"
     ]
    },
    {
     "data": {
      "image/png": "[encoded data removed]",
      "text/plain": [
       "<matplotlib.figure.Figure at 0x27221446470>"
      ]
     },
     "metadata": {},
     "output_type": "display_data"
    }
   ],
   "source": [
    "sns.boxplot(y=y,x=train.Neighborhood)\n",
    "print((y).groupby(train.Neighborhood).mean())\n",
    "print((y).groupby(train.Neighborhood).count())"
   ]
  },
  {
   "cell_type": "code",
   "execution_count": 55,
   "metadata": {
    "collapsed": false
   },
   "outputs": [],
   "source": [
    "def ClusterMap(classmeans, nclust=3):\n",
    "    cluster=KMeans(n_clusters=nclust)\n",
    "    fitcluster=cluster.fit(classmeans.reshape(-1,1))\n",
    "    pred=fitcluster.predict(classmeans.reshape(-1,1))\n",
    "    neighborhood_map = classmeans\n",
    "    for i in range(0, len(pred)):\n",
    "        neighborhood_map[i] = pred[i]\n",
    "    return(neighborhood_map)"
   ]
  },
  {
   "cell_type": "code",
   "execution_count": 56,
   "metadata": {
    "collapsed": false
   },
   "outputs": [
    {
     "data": {
      "text/plain": [
       "0       2\n",
       "1       2\n",
       "2       2\n",
       "3       2\n",
       "4       1\n",
       "5       0\n",
       "6       2\n",
       "7       2\n",
       "8       0\n",
       "9       0\n",
       "10      0\n",
       "11      1\n",
       "12      0\n",
       "13      2\n",
       "14      0\n",
       "15      0\n",
       "16      0\n",
       "17      0\n",
       "18      2\n",
       "19      0\n",
       "20      1\n",
       "21      0\n",
       "22      2\n",
       "23      0\n",
       "24      0\n",
       "25      1\n",
       "26      0\n",
       "27      1\n",
       "28      0\n",
       "29      0\n",
       "       ..\n",
       "1430    2\n",
       "1431    0\n",
       "1432    0\n",
       "1433    2\n",
       "1434    0\n",
       "1435    0\n",
       "1436    0\n",
       "1437    1\n",
       "1438    0\n",
       "1439    2\n",
       "1440    2\n",
       "1441    2\n",
       "1442    2\n",
       "1443    0\n",
       "1444    2\n",
       "1445    0\n",
       "1446    0\n",
       "1447    2\n",
       "1448    0\n",
       "1449    0\n",
       "1450    0\n",
       "1451    2\n",
       "1452    0\n",
       "1453    0\n",
       "1454    2\n",
       "1455    2\n",
       "1456    2\n",
       "1457    2\n",
       "1458    0\n",
       "1459    0\n",
       "Name: Neighborhood, dtype: int64"
      ]
     },
     "execution_count": 56,
     "metadata": {},
     "output_type": "execute_result"
    }
   ],
   "source": [
    "classmeans=(y).groupby(train.Neighborhood).mean()\n",
    "neighborhood_map = ClusterMap(classmeans)\n",
    "train[\"Neighborhood\"].map(neighborhood_map)"
   ]
  },
  {
   "cell_type": "code",
   "execution_count": 45,
   "metadata": {
    "collapsed": false
   },
   "outputs": [
    {
     "name": "stdout",
     "output_type": "stream",
     "text": [
      "Neighborhood\n",
      "0    204322\n",
      "1    134239\n",
      "2    320716\n",
      "Name: SalePrice, dtype: int64\n",
      "Neighborhood\n",
      "0    592\n",
      "1    725\n",
      "2    143\n",
      "Name: SalePrice, dtype: int64\n"
     ]
    },
    {
     "data": {
      "image/png": "[encoded data removed]",
      "text/plain": [
       "<matplotlib.figure.Figure at 0x27222306cc0>"
      ]
     },
     "metadata": {},
     "output_type": "display_data"
    }
   ],
   "source": [
    "train.Neighborhood=train.Neighborhood.map(neighborhood_map)\n",
    "test.Neighborhood=test.Neighborhood.map(neighborhood_map)\n",
    "sns.boxplot(y=y,x=train.Neighborhood)\n",
    "print((y).groupby(train.Neighborhood).mean())\n",
    "print((y).groupby(train.Neighborhood).count())"
   ]
  },
  {
   "cell_type": "code",
   "execution_count": 22,
   "metadata": {
    "collapsed": false
   },
   "outputs": [
    {
     "name": "stdout",
     "output_type": "stream",
     "text": [
      "Index(['Id', 'LotFrontage', 'LotArea', 'OverallQual', 'GrLivArea', 'FullBath',\n",
      "       'HalfBath', 'BedroomAbvGr', 'TotRmsAbvGrd', 'Fireplaces',\n",
      "       ...\n",
      "       'SaleType_ConLw', 'SaleType_New', 'SaleType_Oth', 'SaleType_WD',\n",
      "       'SaleCondition_Abnorml', 'SaleCondition_AdjLand',\n",
      "       'SaleCondition_Alloca', 'SaleCondition_Family', 'SaleCondition_Normal',\n",
      "       'SaleCondition_Partial'],\n",
      "      dtype='object', length=255)\n"
     ]
    },
    {
     "ename": "AttributeError",
     "evalue": "'numpy.ndarray' object has no attribute 'groupby'",
     "output_type": "error",
     "traceback": [
      "\u001b[0;31m---------------------------------------------------------------------------\u001b[0m",
      "\u001b[0;31mAttributeError\u001b[0m                            Traceback (most recent call last)",
      "\u001b[0;32m<ipython-input-22-4fe4e5f8522a>\u001b[0m in \u001b[0;36m<module>\u001b[0;34m()\u001b[0m\n\u001b[1;32m      3\u001b[0m \u001b[0;31m#sns.distplot((variables.GrLivArea))\u001b[0m\u001b[0;34m\u001b[0m\u001b[0;34m\u001b[0m\u001b[0m\n\u001b[1;32m      4\u001b[0m \u001b[0;31m#print((y/train.GrLivArea).groupby(train.OverallQual).mean())\u001b[0m\u001b[0;34m\u001b[0m\u001b[0;34m\u001b[0m\u001b[0m\n\u001b[0;32m----> 5\u001b[0;31m \u001b[0mprint\u001b[0m\u001b[0;34m(\u001b[0m\u001b[0;34m(\u001b[0m\u001b[0my\u001b[0m\u001b[0;34m)\u001b[0m\u001b[0;34m.\u001b[0m\u001b[0mgroupby\u001b[0m\u001b[0;34m(\u001b[0m\u001b[0mtrain\u001b[0m\u001b[0;34m.\u001b[0m\u001b[0mOverallQual\u001b[0m\u001b[0;34m)\u001b[0m\u001b[0;34m.\u001b[0m\u001b[0mmean\u001b[0m\u001b[0;34m(\u001b[0m\u001b[0;34m)\u001b[0m\u001b[0;34m)\u001b[0m\u001b[0;34m\u001b[0m\u001b[0m\n\u001b[0m\u001b[1;32m      6\u001b[0m \u001b[0msns\u001b[0m\u001b[0;34m.\u001b[0m\u001b[0mboxplot\u001b[0m\u001b[0;34m(\u001b[0m\u001b[0my\u001b[0m\u001b[0;34m=\u001b[0m\u001b[0my\u001b[0m\u001b[0;34m,\u001b[0m\u001b[0mx\u001b[0m\u001b[0;34m=\u001b[0m\u001b[0mtrain\u001b[0m\u001b[0;34m.\u001b[0m\u001b[0mOverallQual\u001b[0m\u001b[0;34m)\u001b[0m\u001b[0;34m\u001b[0m\u001b[0m\n\u001b[1;32m      7\u001b[0m \u001b[0;31m#sns.boxplot(np.log(y))\u001b[0m\u001b[0;34m\u001b[0m\u001b[0;34m\u001b[0m\u001b[0m\n",
      "\u001b[0;31mAttributeError\u001b[0m: 'numpy.ndarray' object has no attribute 'groupby'"
     ]
    }
   ],
   "source": [
    "print(variables.columns)\n",
    "#print(y.groupby(train.MoSold).mean())\n",
    "#sns.distplot((variables.GrLivArea))\n",
    "#print((y/train.GrLivArea).groupby(train.OverallQual).mean())\n",
    "print((y).groupby(train.OverallQual).mean())\n",
    "sns.boxplot(y=y,x=train.OverallQual)\n",
    "#sns.boxplot(np.log(y))"
   ]
  },
  {
   "cell_type": "code",
   "execution_count": 9,
   "metadata": {
    "collapsed": false,
    "scrolled": true
   },
   "outputs": [],
   "source": [
    "# Some ideas are from kaggle forum\n",
    "variables['MSSubClass'] = variables['MSSubClass'].astype(str)\n",
    "variables['Alley'] = variables['Alley'].fillna('NoAlley')\n",
    "variables.OverallCond = variables.OverallCond.astype(str)\n",
    "variables['TotalBsmtSF'] = variables['TotalBsmtSF'].fillna(0)\n",
    "variables['KitchenAbvGr'] = variables['KitchenAbvGr'].astype(str)\n",
    "variables['FireplaceQu'] = variables['FireplaceQu'].fillna('NoFP')\n",
    "variables['GarageCars'] = variables['GarageCars'].fillna(0.0)\n",
    "variables.YrSold[variables['YrSold']<=2007]='older2007'\n",
    "variables.YrSold[variables['YrSold']!='older2007']='newer2007'\n",
    "variables['YrSold'] = variables['YrSold'].astype(str)\n",
    "#variables['MoSold'] = variables['MoSold'].astype(str)\n",
    "variables.drop(('MoSold'),axis=1,inplace=True)\n",
    "variables['HouseAge']=variables.YearBuilt.max()-variables.YearBuilt\n",
    "variables.drop(('YearBuilt'),axis=1,inplace=True)\n",
    "variables['RemodAge']=variables.YearRemodAdd.max()-variables.YearRemodAdd\n",
    "variables.drop(('YearRemodAdd'),axis=1,inplace=True)\n",
    "#variables['NumberFloors'] = (variables['2ndFlrSF']>0).astype(int)\n",
    "variables['PoolAvail'] = (variables['PoolArea']>0).astype(int)\n",
    "variables.drop(('PoolArea'),axis=1,inplace=True)\n",
    "\n",
    "for col in ('BsmtQual', 'BsmtCond', 'BsmtExposure', 'BsmtFinType1', 'BsmtFinType2'):\n",
    "    variables[col] = variables[col].fillna('NoBSMT')\n",
    "\n",
    "# GarageType, GarageFinish, GarageQual  NA in all. NA means No Garage\n",
    "for col in ('GarageType', 'GarageFinish', 'GarageQual'):\n",
    "    variables[col] = variables[col].fillna('NoGRG')\n",
    "\n",
    "\n",
    "# Adding total sqfootage feature and removing Basement, 1st and 2nd floor variables\n",
    "variables['TotalSF'] = variables['TotalBsmtSF'] + variables['1stFlrSF'] + variables['2ndFlrSF']\n",
    "variables.drop(['TotalBsmtSF', '1stFlrSF', '2ndFlrSF'], axis=1, inplace=True)"
   ]
  },
  {
   "cell_type": "code",
   "execution_count": 10,
   "metadata": {
    "collapsed": true
   },
   "outputs": [],
   "source": [
    "variables.drop(['Utilities', 'RoofMatl', 'MasVnrArea', 'BsmtFinSF1', 'BsmtFinSF2', 'BsmtUnfSF', 'LowQualFinSF',\n",
    "               'BsmtFullBath', 'BsmtHalfBath', 'Functional', 'GarageYrBlt', 'GarageArea', 'GarageCond', 'WoodDeckSF',\n",
    "               'OpenPorchSF', 'EnclosedPorch', '3SsnPorch', 'ScreenPorch', 'PoolQC', 'Fence', 'MiscFeature', 'MiscVal'],\n",
    "              axis=1, inplace=True)"
   ]
  },
  {
   "cell_type": "code",
   "execution_count": 11,
   "metadata": {
    "collapsed": false
   },
   "outputs": [
    {
     "data": {
      "text/plain": [
       "Index(['Id', 'MSSubClass', 'MSZoning', 'LotFrontage', 'LotArea', 'Street',\n",
       "       'Alley', 'LotShape', 'LandContour', 'LotConfig', 'LandSlope',\n",
       "       'Neighborhood', 'Condition1', 'Condition2', 'BldgType', 'HouseStyle',\n",
       "       'OverallQual', 'OverallCond', 'RoofStyle', 'Exterior1st', 'Exterior2nd',\n",
       "       'MasVnrType', 'ExterQual', 'ExterCond', 'Foundation', 'BsmtQual',\n",
       "       'BsmtCond', 'BsmtExposure', 'BsmtFinType1', 'BsmtFinType2', 'Heating',\n",
       "       'HeatingQC', 'CentralAir', 'Electrical', 'GrLivArea', 'FullBath',\n",
       "       'HalfBath', 'BedroomAbvGr', 'KitchenAbvGr', 'KitchenQual',\n",
       "       'TotRmsAbvGrd', 'Fireplaces', 'FireplaceQu', 'GarageType',\n",
       "       'GarageFinish', 'GarageCars', 'GarageQual', 'PavedDrive', 'YrSold',\n",
       "       'SaleType', 'SaleCondition', 'HouseAge', 'RemodAge', 'PoolAvail',\n",
       "       'TotalSF'],\n",
       "      dtype='object')"
      ]
     },
     "execution_count": 11,
     "metadata": {},
     "output_type": "execute_result"
    }
   ],
   "source": [
    "variables.columns"
   ]
  },
  {
   "cell_type": "code",
   "execution_count": 6,
   "metadata": {
    "collapsed": false
   },
   "outputs": [
    {
     "data": {
      "text/plain": [
       "<matplotlib.text.Text at 0x7f67c3306f98>"
      ]
     },
     "execution_count": 6,
     "metadata": {},
     "output_type": "execute_result"
    },
    {
     "data": {
      "image/png": "[encoded data removed]",
      "text/plain": [
       "<matplotlib.figure.Figure at 0x7f67ccbf50f0>"
      ]
     },
     "metadata": {},
     "output_type": "display_data"
    }
   ],
   "source": [
    "fig = plt.figure(2, figsize=(9, 7))\n",
    "plt.subplot(211)\n",
    "plt.scatter(train.YearRemodAdd.values, y)\n",
    "plt.title('YearBuilt')"
   ]
  },
  {
   "cell_type": "code",
   "execution_count": 12,
   "metadata": {
    "collapsed": false
   },
   "outputs": [],
   "source": [
    "variables['MSZoning'] = variables['MSZoning'].fillna(variables['MSZoning'].mode()[0])\n",
    "variables['LotFrontage'] = variables['LotFrontage'].fillna(variables['LotFrontage'].median())\n",
    "variables['MasVnrType'] = variables['MasVnrType'].fillna(variables['MasVnrType'].mode()[0])\n",
    "variables['Electrical'] = variables['Electrical'].fillna(variables['Electrical'].mode()[0])\n",
    "variables['KitchenQual'] = variables['KitchenQual'].fillna(variables['KitchenQual'].mode()[0])\n",
    "variables['SaleType'] = variables['SaleType'].fillna(variables['SaleType'].mode()[0])"
   ]
  },
  {
   "cell_type": "code",
   "execution_count": 13,
   "metadata": {
    "collapsed": false
   },
   "outputs": [],
   "source": [
    "numeric_variables = variables.loc[:,['LotFrontage', 'LotArea', 'GrLivArea', 'TotalSF','HouseAge','RemodAge','TotRmsAbvGrd']]\n",
    "numeric_variables = np.log(numeric_variables)\n",
    "#numeric_variables = pd.concat([numeric_variables,variables.loc[:,['BedroomAbvGr','TotRmsAbvGrd']]],axis=1)\n",
    "numeric_variables_standardized = (numeric_variables - numeric_variables.loc['train'].mean())/numeric_variables.loc['train'].std()"
   ]
  },
  {
   "cell_type": "code",
   "execution_count": 14,
   "metadata": {
    "collapsed": false
   },
   "outputs": [],
   "source": [
    "\n",
    "conditions = set([x for x in variables['Condition1']] + [x for x in variables['Condition2']])\n",
    "dummies = pd.DataFrame(data=np.zeros((len(variables.index), len(conditions))),\n",
    "                       index=variables.index, columns=conditions)\n",
    "for i, cond in enumerate(zip(variables['Condition1'], variables['Condition2'])):\n",
    "    dummies.ix[i, cond] = 1\n",
    "variables = pd.concat([variables, dummies.add_prefix('Condition_')], axis=1)\n",
    "variables.drop(['Condition1', 'Condition2'], axis=1, inplace=True)\n",
    "\n",
    "# Getting Dummies from Exterior1st and Exterior2nd\n",
    "exteriors = set([x for x in variables['Exterior1st']] + [x for x in variables['Exterior2nd']])\n",
    "dummies = pd.DataFrame(data=np.zeros((len(variables.index), len(exteriors))),\n",
    "                       index=variables.index, columns=exteriors)\n",
    "for i, ext in enumerate(zip(variables['Exterior1st'], variables['Exterior2nd'])):\n",
    "    dummies.ix[i, ext] = 1\n",
    "variables = pd.concat([variables, dummies.add_prefix('Exterior_')], axis=1)\n",
    "variables.drop(['Exterior1st', 'Exterior2nd', 'Exterior_nan'], axis=1, inplace=True)\n",
    "\n",
    "# Getting Dummies from all other categorical vars\n",
    "for col in variables.dtypes[variables.dtypes == 'object'].index:\n",
    "    for_dummy = variables.pop(col)\n",
    "    variables = pd.concat([variables, pd.get_dummies(for_dummy, prefix=col)], axis=1)"
   ]
  },
  {
   "cell_type": "code",
   "execution_count": 15,
   "metadata": {
    "collapsed": true
   },
   "outputs": [],
   "source": [
    "### Copying features\n",
    "variables_standardized = variables.copy()\n",
    "\n",
    "### Replacing numeric features by standardized values\n",
    "variables_standardized.update(numeric_variables_standardized)"
   ]
  },
  {
   "cell_type": "code",
   "execution_count": 16,
   "metadata": {
    "collapsed": true
   },
   "outputs": [],
   "source": [
    "### Splitting features\n",
    "train_variables = variables.loc['train'].drop('Id', axis=1).select_dtypes(include=[np.number]).values\n",
    "test_variables = variables.loc['test'].drop('Id', axis=1).select_dtypes(include=[np.number]).values\n",
    "\n",
    "### Splitting standardized features\n",
    "y = y.values\n",
    "x = variables_standardized.loc['train'].drop('Id', axis=1).select_dtypes(include=[np.number]).values\n",
    "final_set = variables_standardized.loc['test'].drop('Id', axis=1).select_dtypes(include=[np.number]).values"
   ]
  },
  {
   "cell_type": "markdown",
   "metadata": {},
   "source": [
    "# Defining Modelvalidation function"
   ]
  },
  {
   "cell_type": "code",
   "execution_count": 17,
   "metadata": {
    "collapsed": false
   },
   "outputs": [],
   "source": [
    "def Modelvalidation(model,x,y,splitsize=0.3,takelog=True,iterations=10):\n",
    "    repeated_rmsle=np.zeros(iterations)\n",
    "    for j in range(iterations):\n",
    "        rmsle=0\n",
    "        x_train,x_test,y_train,y_test=train_test_split(x,y,test_size=splitsize)\n",
    "        if takelog==True:\n",
    "            y_train=np.log(y_train)\n",
    "        regressionfit=model.fit(x_train,y_train)\n",
    "        if takelog==True:\n",
    "            prediction=np.exp(regressionfit.predict(x_test))\n",
    "        if takelog==False:\n",
    "            prediction=regressionfit.predict(x_test)\n",
    "        for i in range(len(y_test)):\n",
    "            if(prediction[i]<=0):\n",
    "                prediction[i]=np.mean(y_train)\n",
    "            rmsle += (math.log(y_test[i]+1) - math.log(prediction[i]+1))**2\n",
    "        rmsle=(rmsle/len(y_test))**0.5\n",
    "        repeated_rmsle[j]=rmsle\n",
    "    return(repeated_rmsle)"
   ]
  },
  {
   "cell_type": "code",
   "execution_count": 18,
   "metadata": {
    "collapsed": true
   },
   "outputs": [],
   "source": [
    "def Two_Modelvalidation(model1,model2,x,y,splitsize=0.3,takelog=True,iterations=10,model1imp=0.5):\n",
    "    repeated_rmsle=np.zeros(iterations)\n",
    "    for j in range(iterations):\n",
    "        rmsle=0\n",
    "        x_train,x_test,y_train,y_test=train_test_split(x,y,test_size=splitsize)\n",
    "        if takelog==True:\n",
    "            y_train=np.log(y_train)\n",
    "        regressionfit_model1=model1.fit(x_train,y_train)\n",
    "        regressionfit_model2=model2.fit(x_train,y_train)\n",
    "        if takelog==True:\n",
    "            prediction_model1=np.exp(regressionfit_model1.predict(x_test))\n",
    "            prediction_model2=np.exp(regressionfit_model2.predict(x_test))\n",
    "        if takelog==False:\n",
    "            prediction_model1=regressionfit_model1.predict(x_test)\n",
    "            prediction_model2=regressionfit_model2.predict(x_test)\n",
    "        for i in range(len(y_test)):\n",
    "            if(prediction_model1[i]<=0):\n",
    "                prediction_model1[i]=np.mean(y_train)\n",
    "            if(prediction_model2[i]<=0):\n",
    "                prediction_model2[i]=np.mean(y_train)\n",
    "            prediction = model1imp*prediction_model1 + (1-model1imp)*prediction_model2\n",
    "            rmsle += (math.log(y_test[i]+1) - math.log(prediction[i]+1))**2\n",
    "        rmsle=(rmsle/len(y_test))**0.5\n",
    "        repeated_rmsle[j]=rmsle\n",
    "    return(repeated_rmsle)"
   ]
  },
  {
   "cell_type": "markdown",
   "metadata": {},
   "source": [
    "# Ridge Regression and finding optimal tuning parameter"
   ]
  },
  {
   "cell_type": "code",
   "execution_count": 20,
   "metadata": {
    "collapsed": false,
    "scrolled": false
   },
   "outputs": [
    {
     "name": "stdout",
     "output_type": "stream",
     "text": [
      "0.126031588619\n"
     ]
    },
    {
     "data": {
      "image/png": "[encoded data removed]",
      "text/plain": [
       "<matplotlib.figure.Figure at 0x7f31caead710>"
      ]
     },
     "metadata": {},
     "output_type": "display_data"
    }
   ],
   "source": [
    "parameter=np.logspace(-2,3,50)\n",
    "results=np.zeros(len(parameter))\n",
    "for i in range(len(parameter)):\n",
    "    results[i]=Modelvalidation(linear_model.Ridge(alpha=parameter[i]),x,y).mean()\n",
    "plt.plot(results)\n",
    "print(results.min())"
   ]
  },
  {
   "cell_type": "markdown",
   "metadata": {},
   "source": [
    "Optimal alpha should be around 30 with an error around 0.13"
   ]
  },
  {
   "cell_type": "markdown",
   "metadata": {},
   "source": [
    "# Lasso Regression and finding optimal tuning parameter"
   ]
  },
  {
   "cell_type": "code",
   "execution_count": 39,
   "metadata": {
    "collapsed": false,
    "scrolled": false
   },
   "outputs": [
    {
     "name": "stdout",
     "output_type": "stream",
     "text": [
      "0.153308879453\n"
     ]
    },
    {
     "data": {
      "image/png": "[encoded data removed]",
      "text/plain": [
       "<matplotlib.figure.Figure at 0x7f35d0e17208>"
      ]
     },
     "metadata": {},
     "output_type": "display_data"
    }
   ],
   "source": [
    "parameter=np.logspace(-2,3,50)\n",
    "results=np.zeros(len(parameter))\n",
    "for i in range(len(parameter)):\n",
    "    results[i]=Modelvalidation(linear_model.Lasso(alpha=parameter[i]),x,y).mean()\n",
    "plt.plot(results)   \n",
    "print(results.min())"
   ]
  },
  {
   "cell_type": "markdown",
   "metadata": {},
   "source": [
    "# Bayesian Ridge Regression"
   ]
  },
  {
   "cell_type": "code",
   "execution_count": 21,
   "metadata": {
    "collapsed": false
   },
   "outputs": [
    {
     "data": {
      "text/plain": [
       "0.12716748504910519"
      ]
     },
     "execution_count": 21,
     "metadata": {},
     "output_type": "execute_result"
    }
   ],
   "source": [
    "Modelvalidation(linear_model.BayesianRidge(),x,y).mean()"
   ]
  },
  {
   "cell_type": "markdown",
   "metadata": {},
   "source": [
    "# Partial Least Squares"
   ]
  },
  {
   "cell_type": "code",
   "execution_count": 56,
   "metadata": {
    "collapsed": false
   },
   "outputs": [
    {
     "data": {
      "text/plain": [
       "[<matplotlib.lines.Line2D at 0x7f35d0c34b38>]"
      ]
     },
     "execution_count": 56,
     "metadata": {},
     "output_type": "execute_result"
    },
    {
     "data": {
      "image/png": "[encoded data removed]",
      "text/plain": [
       "<matplotlib.figure.Figure at 0x7f35d0dfa048>"
      ]
     },
     "metadata": {},
     "output_type": "display_data"
    }
   ],
   "source": [
    "parameter=np.arange(2,10,1)\n",
    "results=np.zeros(len(parameter))\n",
    "for i in range(len(parameter)):\n",
    "    results[i]=Modelvalidation(PLSRegression(n_components=parameter[i])\n",
    "        ,x,y).mean()\n",
    "plt.plot(results) "
   ]
  },
  {
   "cell_type": "markdown",
   "metadata": {},
   "source": [
    "# Elastic Net Model"
   ]
  },
  {
   "cell_type": "code",
   "execution_count": 57,
   "metadata": {
    "collapsed": false
   },
   "outputs": [
    {
     "data": {
      "text/plain": [
       "[<matplotlib.lines.Line2D at 0x7f35d0dbffd0>,\n",
       " <matplotlib.lines.Line2D at 0x7f35d0dda208>,\n",
       " <matplotlib.lines.Line2D at 0x7f35d0dda4a8>,\n",
       " <matplotlib.lines.Line2D at 0x7f35d0dda6d8>,\n",
       " <matplotlib.lines.Line2D at 0x7f35d0dda908>,\n",
       " <matplotlib.lines.Line2D at 0x7f35d0ddab38>,\n",
       " <matplotlib.lines.Line2D at 0x7f35d0ddad68>]"
      ]
     },
     "execution_count": 57,
     "metadata": {},
     "output_type": "execute_result"
    },
    {
     "data": {
      "image/png": "[encoded data removed]",
      "text/plain": [
       "<matplotlib.figure.Figure at 0x7f35d10295f8>"
      ]
     },
     "metadata": {},
     "output_type": "display_data"
    }
   ],
   "source": [
    "parameter=np.logspace(-2,0,7)\n",
    "parameter2=np.logspace(-2,0,7)\n",
    "results=np.ndarray(shape=(len(parameter),len(parameter2)))\n",
    "for i in range(len(parameter)):\n",
    "    for j in range(len(parameter2)):\n",
    "        results[i,j]=Modelvalidation(linear_model.ElasticNet(max_iter=3000,l1_ratio=parameter[i],alpha=parameter2[i]),x,y).mean()\n",
    "plt.plot(results)    \n",
    "print(results.min())"
   ]
  },
  {
   "cell_type": "markdown",
   "metadata": {},
   "source": [
    "# Gradient Boosting"
   ]
  },
  {
   "cell_type": "code",
   "execution_count": 60,
   "metadata": {
    "collapsed": false,
    "scrolled": true
   },
   "outputs": [
    {
     "name": "stdout",
     "output_type": "stream",
     "text": [
      "0.125770547526\n"
     ]
    },
    {
     "data": {
      "image/png": "[encoded data removed]",
      "text/plain": [
       "<matplotlib.figure.Figure at 0x7f35d050add8>"
      ]
     },
     "metadata": {},
     "output_type": "display_data"
    }
   ],
   "source": [
    "parameter=np.arange(2,10,1)\n",
    "results=np.zeros(len(parameter))\n",
    "for i in range(len(parameter)):\n",
    "    results[i]=Modelvalidation(GradientBoostingRegressor(n_estimators=3000, learning_rate=0.05, max_depth=parameter[i], max_features='sqrt',\n",
    "                                               min_samples_leaf=15, min_samples_split=10, loss='huber')\n",
    "        ,x,y,iterations=5).mean()\n",
    "plt.plot(results)\n",
    "print(results.min())"
   ]
  },
  {
   "cell_type": "markdown",
   "metadata": {},
   "source": [
    "# RandomForest"
   ]
  },
  {
   "cell_type": "code",
   "execution_count": 17,
   "metadata": {
    "collapsed": false
   },
   "outputs": [
    {
     "ename": "SyntaxError",
     "evalue": "invalid syntax (<ipython-input-17-206787eda419>, line 5)",
     "output_type": "error",
     "traceback": [
      "\u001b[0;36m  File \u001b[0;32m\"<ipython-input-17-206787eda419>\"\u001b[0;36m, line \u001b[0;32m5\u001b[0m\n\u001b[0;31m    min_child_weight=1.5, n_estimators=7200, reg_alpha=0.9, reg_lambda=0.6,subsample=0.2),x,y,iterations=1).mean()\u001b[0m\n\u001b[0m                                                                                                          ^\u001b[0m\n\u001b[0;31mSyntaxError\u001b[0m\u001b[0;31m:\u001b[0m invalid syntax\n"
     ]
    }
   ],
   "source": [
    "parameter=np.arange(100,300,2)\n",
    "results=np.zeros(len(parameter))\n",
    "for i in range(len(parameter)):\n",
    "    results[i]=Modelvalidation(RandomForestRegressor(n_estimators=parameter[i])\n",
    "        ,x,y,iterations=1).mean() \n",
    "plt.plot(results)   \n",
    "print(results.min())"
   ]
  },
  {
   "cell_type": "markdown",
   "metadata": {},
   "source": [
    "# Extreme Gradient Boosting"
   ]
  },
  {
   "cell_type": "code",
   "execution_count": 20,
   "metadata": {
    "collapsed": false
   },
   "outputs": [
    {
     "name": "stdout",
     "output_type": "stream",
     "text": [
      "0.12142451609\n"
     ]
    },
    {
     "data": {
      "image/png": "[encoded data removed]",
      "text/plain": [
       "<matplotlib.figure.Figure at 0x7f5ca2939908>"
      ]
     },
     "metadata": {},
     "output_type": "display_data"
    }
   ],
   "source": [
    "parameter=np.arange(2,3,1)\n",
    "results=np.zeros(len(parameter))\n",
    "for i in range(len(parameter)):\n",
    "    results[i]=Modelvalidation(xgb.XGBRegressor(colsample_bytree=0.2, gamma=0.0, learning_rate=0.05, max_depth=6,\n",
    "                               min_child_weight=1.5, n_estimators=7200, reg_alpha=0.9, reg_lambda=0.6,subsample=0.2)\n",
    "        ,x,y,iterations=1).mean()\n",
    "plt.plot(results)  \n",
    "print(results.min())"
   ]
  },
  {
   "cell_type": "markdown",
   "metadata": {},
   "source": [
    "# Delauny Network"
   ]
  },
  {
   "cell_type": "code",
   "execution_count": 20,
   "metadata": {
    "collapsed": false
   },
   "outputs": [],
   "source": [
    "# by Nils Löhndorf\n",
    "from sklearn.cluster import KMeans, AffinityPropagation\n",
    "from sklearn.linear_model import LinearRegression\n",
    "from scipy.spatial.distance import euclidean\n",
    "from scipy.optimize import linprog\n",
    "from cvxopt import matrix, solvers\n",
    "from sklearn.preprocessing import StandardScaler\n",
    "class DelaunayRegressor(object):\n",
    "    \n",
    "    _points = None\n",
    "    _n_points = None\n",
    "    _dim = None\n",
    "    _coef = None\n",
    "    _scaling = None\n",
    "    \n",
    "    def __init__(self, n_points=None, scaling=False):\n",
    "        self._n_points = n_points\n",
    "        self._scaling = scaling\n",
    "    \n",
    "    def fit(self, X, y):\n",
    "        y = np.array(y)\n",
    "        X = np.array(X)\n",
    "        if self._n_points is None:\n",
    "            kmeans = AffinityPropagation()\n",
    "        else:\n",
    "            kmeans = KMeans(n_clusters=self._n_points)\n",
    "        if self._scaling:\n",
    "            reg = LinearRegression()\n",
    "            reg.fit(X,y)\n",
    "            self._coef = reg.coef_\n",
    "            X = X*self._coef\n",
    "        else:\n",
    "            self._scaler = StandardScaler()\n",
    "            X = self._scaler.fit_transform(X)\n",
    "        kmeans.fit(X)\n",
    "        self._points = kmeans.cluster_centers_\n",
    "        self._n_points, self._dim = self._points.shape\n",
    "        weights = np.empty((X.shape[0],self._n_points))\n",
    "        for i in range(len(X)):\n",
    "            weights[i] = self.get_weights_qp(X[i])[1]\n",
    "        reg = LinearRegression(fit_intercept=False)\n",
    "        reg.fit(weights,y)\n",
    "        self._means = reg.coef_\n",
    "\n",
    "    def score(self, X, y):\n",
    "        y = np.array(y)\n",
    "        X = np.array(X)\n",
    "        self._in_hull = 0\n",
    "        rss = 0.\n",
    "        if self._scaling:\n",
    "            X = X*self._coef\n",
    "        else:\n",
    "            X = self._scaler.transform(X)\n",
    "        y = np.array(y)\n",
    "        for i in range(len(X)):\n",
    "            error, weights = self.get_weights_qp(X[i])\n",
    "            if error == 0:\n",
    "                self._in_hull += 1\n",
    "            rss += (weights.dot(self._means)-y[i])**2\n",
    "        tss = ((y-y.mean())**2).sum()\n",
    "        return (1-rss/tss)\n",
    "    \n",
    "    def predict(self, X):\n",
    "        X = np.array(X)\n",
    "        self._in_hull = 0\n",
    "        if self._scaling:\n",
    "            X = X*self._coef\n",
    "        else:\n",
    "            X = self._scaler.transform(X)\n",
    "        if len(self._means.shape)==1:\n",
    "            y_hat = np.zeros(X.shape[0])\n",
    "        if len(self._means.shape)==2:\n",
    "            y_hat = np.zeros((X.shape[0], self._means.shape[1]))\n",
    "        for i in range(len(X)):\n",
    "            error, weights = self.get_weights_qp(X[i])\n",
    "            if error == 0:\n",
    "                self._in_hull += 1\n",
    "            y_hat[i] = weights.dot(self._means)\n",
    "        return y_hat\n",
    "    \n",
    "    def get_weights_lp(self, point):\n",
    "        points = self._points\n",
    "        n_points = self._n_points\n",
    "        c = np.array([euclidean(points[i], point) for i in range(n_points)])\n",
    "        A = np.r_[points.T,np.ones((1,n_points))]\n",
    "        b = np.r_[point, np.ones(1)]\n",
    "        lp = linprog(c, A_eq=A, b_eq=b)\n",
    "        return lp.success, lp.x\n",
    "        \n",
    "    def get_weights_qp(self, point):\n",
    "        points = self._points\n",
    "        n_points, dim = points.shape\n",
    "        P = matrix(sum(np.outer(points.T[i],points.T[i]) for i in range(dim)))\n",
    "        q = matrix(sum(-points.T[i]*point[i] for i in range(dim)))\n",
    "        G = matrix(-np.identity(n_points))\n",
    "        h = matrix(np.zeros(n_points))\n",
    "        A = matrix(np.ones((1,n_points)))\n",
    "        b = matrix(np.ones(1))\n",
    "        sol = solvers.qp(P, q, G, h, A, b, options={\"show_progress\":False})\n",
    "        weights = np.array([sol[\"x\"][i] for i in range(n_points)])\n",
    "        error = (((self._points.T).dot(weights)-point)**2).sum()\n",
    "        if error < 1.e-7:\n",
    "            success, weights_lp = self.get_weights_lp(point)\n",
    "            if success:\n",
    "                return 0.0, weights_lp\n",
    "        return error, weights"
   ]
  },
  {
   "cell_type": "code",
   "execution_count": 15,
   "metadata": {
    "collapsed": false
   },
   "outputs": [
    {
     "ename": "AttributeError",
     "evalue": "'NoneType' object has no attribute 'predict'",
     "output_type": "error",
     "traceback": [
      "\u001b[0;31m---------------------------------------------------------------------------\u001b[0m",
      "\u001b[0;31mAttributeError\u001b[0m                            Traceback (most recent call last)",
      "\u001b[0;32m<ipython-input-15-ba09ff55d4b5>\u001b[0m in \u001b[0;36m<module>\u001b[0;34m()\u001b[0m\n\u001b[1;32m      4\u001b[0m \u001b[0;32mfor\u001b[0m \u001b[0mi\u001b[0m \u001b[0;32min\u001b[0m \u001b[0mrange\u001b[0m\u001b[0;34m(\u001b[0m\u001b[0mlen\u001b[0m\u001b[0;34m(\u001b[0m\u001b[0mparameter\u001b[0m\u001b[0;34m)\u001b[0m\u001b[0;34m)\u001b[0m\u001b[0;34m:\u001b[0m\u001b[0;34m\u001b[0m\u001b[0m\n\u001b[1;32m      5\u001b[0m     results[i]=Modelvalidation(delaun\n\u001b[0;32m----> 6\u001b[0;31m         ,x,y,iterations=2).mean()\n\u001b[0m\u001b[1;32m      7\u001b[0m \u001b[0mplt\u001b[0m\u001b[0;34m.\u001b[0m\u001b[0mplot\u001b[0m\u001b[0;34m(\u001b[0m\u001b[0mresults\u001b[0m\u001b[0;34m)\u001b[0m\u001b[0;34m\u001b[0m\u001b[0m\n",
      "\u001b[0;32m<ipython-input-12-f51cabddebfd>\u001b[0m in \u001b[0;36mModelvalidation\u001b[0;34m(model, x, y, splitsize, takelog, iterations)\u001b[0m\n\u001b[1;32m      8\u001b[0m         \u001b[0mregressionfit\u001b[0m\u001b[0;34m=\u001b[0m\u001b[0mmodel\u001b[0m\u001b[0;34m.\u001b[0m\u001b[0mfit\u001b[0m\u001b[0;34m(\u001b[0m\u001b[0mx_train\u001b[0m\u001b[0;34m,\u001b[0m\u001b[0my_train\u001b[0m\u001b[0;34m)\u001b[0m\u001b[0;34m\u001b[0m\u001b[0m\n\u001b[1;32m      9\u001b[0m         \u001b[0;32mif\u001b[0m \u001b[0mtakelog\u001b[0m\u001b[0;34m==\u001b[0m\u001b[0;32mTrue\u001b[0m\u001b[0;34m:\u001b[0m\u001b[0;34m\u001b[0m\u001b[0m\n\u001b[0;32m---> 10\u001b[0;31m             \u001b[0mprediction\u001b[0m\u001b[0;34m=\u001b[0m\u001b[0mnp\u001b[0m\u001b[0;34m.\u001b[0m\u001b[0mexp\u001b[0m\u001b[0;34m(\u001b[0m\u001b[0mregressionfit\u001b[0m\u001b[0;34m.\u001b[0m\u001b[0mpredict\u001b[0m\u001b[0;34m(\u001b[0m\u001b[0mx_test\u001b[0m\u001b[0;34m)\u001b[0m\u001b[0;34m)\u001b[0m\u001b[0;34m\u001b[0m\u001b[0m\n\u001b[0m\u001b[1;32m     11\u001b[0m         \u001b[0;32mif\u001b[0m \u001b[0mtakelog\u001b[0m\u001b[0;34m==\u001b[0m\u001b[0;32mFalse\u001b[0m\u001b[0;34m:\u001b[0m\u001b[0;34m\u001b[0m\u001b[0m\n\u001b[1;32m     12\u001b[0m             \u001b[0mprediction\u001b[0m\u001b[0;34m=\u001b[0m\u001b[0mregressionfit\u001b[0m\u001b[0;34m.\u001b[0m\u001b[0mpredict\u001b[0m\u001b[0;34m(\u001b[0m\u001b[0mx_test\u001b[0m\u001b[0;34m)\u001b[0m\u001b[0;34m\u001b[0m\u001b[0m\n",
      "\u001b[0;31mAttributeError\u001b[0m: 'NoneType' object has no attribute 'predict'"
     ]
    }
   ],
   "source": [
    "parameter=np.arange(100,300,2)\n",
    "results=np.zeros(len(parameter))\n",
    "delaun=DelaunayRegressor(n_points=300)\n",
    "for i in range(len(parameter)):\n",
    "    results[i]=Modelvalidation(delaun\n",
    "        ,x,y,iterations=2).mean()\n",
    "plt.plot(results)    "
   ]
  },
  {
   "cell_type": "code",
   "execution_count": 21,
   "metadata": {
    "collapsed": false
   },
   "outputs": [],
   "source": [
    "a=(delaun.fit(x,y))"
   ]
  },
  {
   "cell_type": "code",
   "execution_count": null,
   "metadata": {
    "collapsed": false
   },
   "outputs": [],
   "source": [
    "b=delaun.score(x,y)"
   ]
  },
  {
   "cell_type": "markdown",
   "metadata": {},
   "source": [
    "# SVM Regression"
   ]
  },
  {
   "cell_type": "code",
   "execution_count": 17,
   "metadata": {
    "collapsed": false
   },
   "outputs": [
    {
     "name": "stdout",
     "output_type": "stream",
     "text": [
      "0.201649044641\n"
     ]
    },
    {
     "data": {
      "image/png": "[encoded data removed]",
      "text/plain": [
       "<matplotlib.figure.Figure at 0x7f051d89f9e8>"
      ]
     },
     "metadata": {},
     "output_type": "display_data"
    }
   ],
   "source": [
    "parameter=np.arange(0.1,5,10)\n",
    "parameter2=np.arange(0.1,4,10)\n",
    "results=np.ndarray(shape=(len(parameter),len(parameter2)))\n",
    "for i in range(len(parameter)):\n",
    "    for j in range(len(parameter2)):\n",
    "        results[i,j]=Modelvalidation(SVR(C=parameter[i], epsilon=parameter2[j]),x,y).mean()\n",
    "plt.plot(results)    \n",
    "print(results.min())"
   ]
  },
  {
   "cell_type": "markdown",
   "metadata": {},
   "source": [
    "# Ensemble the best regression with best tree"
   ]
  },
  {
   "cell_type": "markdown",
   "metadata": {},
   "source": [
    "Estimating a good mixture parameter"
   ]
  },
  {
   "cell_type": "code",
   "execution_count": 18,
   "metadata": {
    "collapsed": false
   },
   "outputs": [
    {
     "data": {
      "text/plain": [
       "[<matplotlib.lines.Line2D at 0x7f051d80aba8>]"
      ]
     },
     "execution_count": 18,
     "metadata": {},
     "output_type": "execute_result"
    },
    {
     "data": {
      "image/png": "[encoded data removed]",
      "text/plain": [
       "<matplotlib.figure.Figure at 0x7f051d8a36a0>"
      ]
     },
     "metadata": {},
     "output_type": "display_data"
    }
   ],
   "source": [
    "model1=GradientBoostingRegressor(n_estimators=3000, learning_rate=0.05, max_depth=4, max_features='sqrt',\n",
    "                                               min_samples_leaf=15, min_samples_split=10, loss='huber')\n",
    "#model2=linear_model.Ridge(alpha=30)\n",
    "model2=linear_model.BayesianRidge()\n",
    "\n",
    "parameter=np.arange(0,1.1,0.1)\n",
    "result=np.zeros(len(parameter))\n",
    "for i in range(len(parameter)):\n",
    "    result[i]=Two_Modelvalidation(model1,model2,x,y,takelog=True,model1imp=parameter[i]).mean()\n",
    "plt.plot(result)"
   ]
  },
  {
   "cell_type": "markdown",
   "metadata": {},
   "source": [
    "Actual modelvalidation"
   ]
  },
  {
   "cell_type": "code",
   "execution_count": 22,
   "metadata": {
    "collapsed": false,
    "scrolled": true
   },
   "outputs": [
    {
     "name": "stdout",
     "output_type": "stream",
     "text": [
      "0.127016676622\n"
     ]
    },
    {
     "data": {
      "image/png": "[encoded data removed]",
      "text/plain": [
       "<matplotlib.figure.Figure at 0x7f051d8195c0>"
      ]
     },
     "metadata": {},
     "output_type": "display_data"
    }
   ],
   "source": [
    "model1=GradientBoostingRegressor(n_estimators=3000, learning_rate=0.05, max_depth=4, max_features='sqrt',\n",
    "                                               min_samples_leaf=15, min_samples_split=10, loss='huber')\n",
    "model2=linear_model.Ridge(alpha=30)\n",
    "\n",
    "result=Two_Modelvalidation(model1,model2,x,y,takelog=True)\n",
    "plt.plot(result)   \n",
    "print(result.mean())"
   ]
  },
  {
   "cell_type": "markdown",
   "metadata": {},
   "source": [
    "# Final prediction"
   ]
  },
  {
   "cell_type": "code",
   "execution_count": 20,
   "metadata": {
    "collapsed": true
   },
   "outputs": [],
   "source": [
    "model1_fit=model1.fit(x,np.log(y))\n",
    "model2_fit=model2.fit(x,np.log(y))\n",
    "prediction_model1=np.exp(model1_fit.predict(final_set))\n",
    "prediction_model2=np.exp(model2_fit.predict(final_set))\n",
    "prediction=(prediction_model1+prediction_model2)/2"
   ]
  },
  {
   "cell_type": "code",
   "execution_count": 21,
   "metadata": {
    "collapsed": false
   },
   "outputs": [],
   "source": [
    "prediction=pd.concat([test['Id'],pd.DataFrame(prediction)],axis=1)\n",
    "prediction.columns=[\"Id\",\"SalePrice\"]\n",
    "prediction.to_csv('submission.csv',index=False)"
   ]
  },
  {
   "cell_type": "code",
   "execution_count": null,
   "metadata": {
    "collapsed": true
   },
   "outputs": [],
   "source": []
  }
 ],
 "metadata": {
  "kernelspec": {
   "display_name": "Python 3",
   "language": "python",
   "name": "python3"
  },
  "language_info": {
   "codemirror_mode": {
    "name": "ipython",
    "version": 3
   },
   "file_extension": ".py",
   "mimetype": "text/x-python",
   "name": "python",
   "nbconvert_exporter": "python",
   "pygments_lexer": "ipython3",
   "version": "3.6.0"
  }
 },
 "nbformat": 4,
 "nbformat_minor": 0
}
